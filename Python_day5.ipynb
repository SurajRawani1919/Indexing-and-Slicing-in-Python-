{
 "cells": [
  {
   "cell_type": "code",
   "execution_count": 1,
   "id": "8dfad3f2-c795-43d2-92dd-02c4835b7fef",
   "metadata": {},
   "outputs": [],
   "source": [
    "# String indexing and slicing \n",
    "#numeric \n",
    "#charchter-string,list,tuple\n",
    "#'hello'\n",
    "#'hello how are you'"
   ]
  },
  {
   "cell_type": "code",
   "execution_count": 7,
   "id": "f664fdb9-9867-483c-b4a9-d3a4d9c29bf9",
   "metadata": {},
   "outputs": [
    {
     "name": "stdout",
     "output_type": "stream",
     "text": [
      "H\n",
      "l\n",
      "o\n",
      "l\n",
      "o\n",
      "e\n"
     ]
    },
    {
     "ename": "IndexError",
     "evalue": "string index out of range",
     "output_type": "error",
     "traceback": [
      "\u001b[1;31m---------------------------------------------------------------------------\u001b[0m",
      "\u001b[1;31mIndexError\u001b[0m                                Traceback (most recent call last)",
      "Cell \u001b[1;32mIn[7], line 8\u001b[0m\n\u001b[0;32m      6\u001b[0m \u001b[38;5;28mprint\u001b[39m(my_stirng[\u001b[38;5;241m-\u001b[39m\u001b[38;5;241m1\u001b[39m])\n\u001b[0;32m      7\u001b[0m \u001b[38;5;28mprint\u001b[39m(my_stirng[\u001b[38;5;241m-\u001b[39m\u001b[38;5;241m4\u001b[39m])\n\u001b[1;32m----> 8\u001b[0m \u001b[38;5;28mprint\u001b[39m(\u001b[43mmy_stirng\u001b[49m\u001b[43m[\u001b[49m\u001b[38;5;241;43m-\u001b[39;49m\u001b[38;5;241;43m8\u001b[39;49m\u001b[43m]\u001b[49m)\n",
      "\u001b[1;31mIndexError\u001b[0m: string index out of range"
     ]
    }
   ],
   "source": [
    "my_stirng=\"Hello\"\n",
    "print(my_stirng[0])\n",
    "print(my_stirng[3])\n",
    "print(my_stirng[4])\n",
    "print(my_stirng[-2])\n",
    "print(my_stirng[-1])\n",
    "print(my_stirng[-4])\n",
    "print(my_stirng[-8])"
   ]
  },
  {
   "cell_type": "code",
   "execution_count": 13,
   "id": "a603d72a-ac9e-443f-af18-4fe1648664fd",
   "metadata": {},
   "outputs": [
    {
     "name": "stdout",
     "output_type": "stream",
     "text": [
      "ell\n",
      "Hel\n",
      "llo\n",
      "Hello\n"
     ]
    }
   ],
   "source": [
    "#slicing\n",
    "my_string='Hello'\n",
    "print(my_string[1:4])\n",
    "print(my_string[:3])\n",
    "print(my_string[2:])\n",
    "print(my_string[0:])\n"
   ]
  },
  {
   "cell_type": "markdown",
   "id": "1b96d3d7-4ce0-4b0e-9c0e-9ac88ec02988",
   "metadata": {},
   "source": [
    "# step size \n",
    "print(my_string[0:4:2])\n",
    "print(my_string[-1::-1])\n",
    "print(my_string[::-1])\n",
    "print(my_string[2:4:3])"
   ]
  },
  {
   "cell_type": "code",
   "execution_count": 34,
   "id": "8cb3009f-1045-4e42-b937-0b501eb9f726",
   "metadata": {},
   "outputs": [
    {
     "name": "stdout",
     "output_type": "stream",
     "text": [
      "l\n",
      "Hl\n",
      "e\n",
      "H\n",
      "ol\n",
      "\n"
     ]
    }
   ],
   "source": [
    "print(my_string[2:4:3])\n",
    "print(my_string[0:3:2])\n",
    "print(my_string[1:4:3])\n",
    "print(my_string[0:2:2])\n",
    "print(my_string[-1:-5:-2])\n",
    "print(my_string[-1:-4:2])"
   ]
  },
  {
   "cell_type": "code",
   "execution_count": 38,
   "id": "11ccc55b-c5c8-409a-88d0-eb21e53843d8",
   "metadata": {},
   "outputs": [
    {
     "name": "stdout",
     "output_type": "stream",
     "text": [
      "{'name': 'Suraj', 'city': 'jaipur'}\n"
     ]
    }
   ],
   "source": [
    "#datatype mapping >>>>> dictonarires \n",
    "#start with curly barces\n",
    "#elemet in key-vlaue pairs\n",
    "#key-----unique immutable \n",
    "# key is uniwque but vlaue may be dublicates \n",
    "my_dict={'name':'Suraj','city':'jaipur'}\n",
    "print(my_dict)"
   ]
  },
  {
   "cell_type": "code",
   "execution_count": 42,
   "id": "8b927eea-f601-4fdc-8455-677767b911d3",
   "metadata": {},
   "outputs": [
    {
     "name": "stdout",
     "output_type": "stream",
     "text": [
      "{'name': 'vikram', 'title': 'choudhary'}\n"
     ]
    }
   ],
   "source": [
    "my_dit={'name':'vikram','title':'choudhary'}\n",
    "print(my_dit)"
   ]
  },
  {
   "cell_type": "code",
   "execution_count": 54,
   "id": "6f55f6a5-5a4b-40d7-a528-fa7908be5f25",
   "metadata": {},
   "outputs": [
    {
     "name": "stdout",
     "output_type": "stream",
     "text": [
      "{'name': 'Suraj Singh', 'city': 'Patna', 'Age': 21, 'State': 'Bihar', 'Course': 'Data Science', 'Pin': '800001'}\n",
      "{'name': 'Suraj', 'title': 'Singh'}\n",
      "Suraj\n",
      "Suraj\n",
      "None\n",
      "Not available write any other key\n"
     ]
    }
   ],
   "source": [
    "my_dict={'name':'Suraj Singh','city':'Patna','Age':21,'State':'Bihar','Course':'Data Science','Pin':'800001'}\n",
    "print(my_dict)\n",
    "\n",
    "#second method (Constructor)\n",
    "my_dict=dict(name=\"Suraj\",title=\"Singh\")\n",
    "print(my_dict)\n",
    "\n",
    "\n",
    "#accessing\n",
    "print(my_dict['name'])\n",
    "print(my_dict.get('name'))\n",
    "#print(my_dict['lastname'])\n",
    "print(my_dict.get('lastname'))\n",
    "print(my_dict.get('lastname','Not available write any other key'))"
   ]
  },
  {
   "cell_type": "code",
   "execution_count": 59,
   "id": "ab48203d-75e8-4503-8b64-5997f6d54ea2",
   "metadata": {},
   "outputs": [
    {
     "name": "stdout",
     "output_type": "stream",
     "text": [
      "{'Name': 'Vikram', 'city': 'Patna', 'Age': 22, 'State': 'Bihar', 'Course': 'Data Science', 'Pin': '800001', 'Batchs': 24}\n"
     ]
    }
   ],
   "source": [
    "#modifying or update the dictonary \n",
    "my_dict={'Name':'Suraj Singh','city':'Patna','Age':21,'State':'Bihar','Course':'Data Science','Pin':'800001'}\n",
    "\n",
    "my_dict['Name']='Vikram'\n",
    "my_dict['Age']=22\n",
    "my_dict['Batchs']=24\n",
    "print(my_dict)"
   ]
  }
 ],
 "metadata": {
  "kernelspec": {
   "display_name": "Python 3 (ipykernel)",
   "language": "python",
   "name": "python3"
  },
  "language_info": {
   "codemirror_mode": {
    "name": "ipython",
    "version": 3
   },
   "file_extension": ".py",
   "mimetype": "text/x-python",
   "name": "python",
   "nbconvert_exporter": "python",
   "pygments_lexer": "ipython3",
   "version": "3.10.11"
  }
 },
 "nbformat": 4,
 "nbformat_minor": 5
}
